{
 "cells": [
  {
   "cell_type": "markdown",
   "metadata": {},
   "source": [
    "1. Array\n",
    "- En array är en datastruktur som lagrar element i ett kontinuerligt block av minne. Alla element har samma typ och är tillgängliga via index.\n",
    "- Fördelar: Snabb åtkomst (O(1)) till element via index.\n",
    "- Nackdelar: Storleken måste vara fast och kan vara ineffektiv vid insättning och borttagning av element."
   ]
  },
  {
   "cell_type": "code",
   "execution_count": null,
   "metadata": {},
   "outputs": [],
   "source": [
    "# Exempel på array\n",
    "array = [1, 2, 3, 4, 5]\n",
    "\n",
    "# Åtkomst till element\n",
    "print(array[2])  # Output: 3\n",
    "\n",
    "# Ändra ett element\n",
    "array[2] = 10\n",
    "print(array)  # Output: [1, 2, 10, 4, 5]"
   ]
  },
  {
   "cell_type": "markdown",
   "metadata": {},
   "source": [
    "2. Linked List\n",
    "- En länkad lista är en sekvens av noder där varje nod innehåller ett element och en pekare till nästa nod.\n",
    "- Fördelar: Dynamisk storlek, lätt att lägga till och ta bort element (O(1) vid kända positioner).\n",
    "- Nackdelar: Långsammare åtkomst (O(n)) jämfört med array då man måste traversera listan."
   ]
  },
  {
   "cell_type": "code",
   "execution_count": null,
   "metadata": {},
   "outputs": [],
   "source": [
    "class Node:\n",
    "    def __init__(self, data):\n",
    "        self.data = data\n",
    "        self.next = None\n",
    "\n",
    "class LinkedList:\n",
    "    def __init__(self):\n",
    "        self.head = None\n",
    "\n",
    "    def append(self, data):\n",
    "        new_node = Node(data)\n",
    "        if not self.head:\n",
    "            self.head = new_node\n",
    "            return\n",
    "        last_node = self.head\n",
    "        while last_node.next:\n",
    "            last_node = last_node.next\n",
    "        last_node.next = new_node\n",
    "\n",
    "    def print_list(self):\n",
    "        current_node = self.head\n",
    "        while current_node:\n",
    "            print(current_node.data, end=\" -> \")\n",
    "            current_node = current_node.next\n",
    "        print(\"None\")\n",
    "\n",
    "# Användning\n",
    "linked_list = LinkedList()\n",
    "linked_list.append(1)\n",
    "linked_list.append(2)\n",
    "linked_list.append(3)\n",
    "linked_list.print_list()  # Output: 1 -> 2 -> 3 -> None\n"
   ]
  },
  {
   "cell_type": "markdown",
   "metadata": {},
   "source": [
    "3. Stack\n",
    "- En stack är en datastruktur som följer principen \"Last In, First Out\" (LIFO). - Endast det översta elementet kan nås.\n",
    "- Fördelar: Enkel implementering av funktioner som \"undo\", rekursion och kontrollflöden.\n",
    "- Nackdelar: Begränsad åtkomst eftersom endast översta elementet är åtkomligt."
   ]
  },
  {
   "cell_type": "code",
   "execution_count": null,
   "metadata": {},
   "outputs": [],
   "source": [
    "stack = []\n",
    "\n",
    "# Lägga till element\n",
    "stack.append(1)\n",
    "stack.append(2)\n",
    "stack.append(3)\n",
    "\n",
    "# Ta bort element\n",
    "print(stack.pop())  # Output: 3\n",
    "print(stack)        # Output: [1, 2]\n"
   ]
  },
  {
   "cell_type": "markdown",
   "metadata": {},
   "source": [
    "4. Queue\n",
    "- En kö följer principen \"First In, First Out\" (FIFO). Element läggs till i slutet och tas bort från början.\n",
    "- Fördelar: Används ofta i uppgifter som hantering av köer och buffertar.\n",
    "- Nackdelar: Begränsad åtkomst då bara första elementet kan tas bort."
   ]
  },
  {
   "cell_type": "code",
   "execution_count": null,
   "metadata": {},
   "outputs": [],
   "source": [
    "from collections import deque\n",
    "\n",
    "queue = deque()\n",
    "\n",
    "# Lägga till element\n",
    "queue.append(1)\n",
    "queue.append(2)\n",
    "queue.append(3)\n",
    "\n",
    "# Ta bort element\n",
    "print(queue.popleft())  # Output: 1\n",
    "print(queue)            # Output: deque([2, 3])\n"
   ]
  },
  {
   "cell_type": "markdown",
   "metadata": {},
   "source": [
    "5. Binary Tree\n",
    "- Ett binärt träd är en rekursiv datastruktur där varje nod har högst två barn (vänster och höger).\n",
    "- Fördelar: Användbart för att representera hierarkiska strukturer.\n",
    "- Nackdelar: Inte alltid balanserade, vilket kan påverka prestandan."
   ]
  },
  {
   "cell_type": "code",
   "execution_count": null,
   "metadata": {},
   "outputs": [],
   "source": [
    "class Node:\n",
    "    def __init__(self, data):\n",
    "        self.data = data\n",
    "        self.left = None\n",
    "        self.right = None\n",
    "\n",
    "class BinaryTree:\n",
    "    def __init__(self):\n",
    "        self.root = None\n",
    "\n",
    "    def inorder_traversal(self, node):\n",
    "        if node:\n",
    "            self.inorder_traversal(node.left)\n",
    "            print(node.data, end=\" \")\n",
    "            self.inorder_traversal(node.right)\n",
    "\n",
    "# Skapa ett träd\n",
    "tree = BinaryTree()\n",
    "tree.root = Node(1)\n",
    "tree.root.left = Node(2)\n",
    "tree.root.right = Node(3)\n",
    "tree.root.left.left = Node(4)\n",
    "tree.root.left.right = Node(5)\n",
    "\n",
    "# Traversera\n",
    "tree.inorder_traversal(tree.root)  # Output: 4 2 5 1 3\n"
   ]
  },
  {
   "cell_type": "markdown",
   "metadata": {},
   "source": [
    "6. Binary Search Tree (BST)\n",
    "- En BST är ett binärt träd där varje nod följer regeln: vänster barn är mindre och höger barn är större än föräldern.\n",
    "- Fördelar: Snabb sökning, insättning och borttagning (O(log n)) om trädet är balanserat.\n",
    "- Nackdelar: Om trädet blir obalanserat kan prestandan försämras till O(n)."
   ]
  },
  {
   "cell_type": "code",
   "execution_count": null,
   "metadata": {},
   "outputs": [],
   "source": [
    "class Node:\n",
    "    def __init__(self, key):\n",
    "        self.left = None\n",
    "        self.right = None\n",
    "        self.val = key\n",
    "\n",
    "# Insättningsfunktion för BST\n",
    "def insert(root, key):\n",
    "    if root is None:\n",
    "        return Node(key)\n",
    "    if key < root.val:\n",
    "        root.left = insert(root.left, key)\n",
    "    else:\n",
    "        root.right = insert(root.right, key)\n",
    "    return root\n",
    "\n",
    "# Traversering\n",
    "def inorder(root):\n",
    "    if root:\n",
    "        inorder(root.left)\n",
    "        print(root.val, end=\" \")\n",
    "        inorder(root.right)\n",
    "\n",
    "# Skapa och använda BST\n",
    "root = Node(50)\n",
    "insert(root, 30)\n",
    "insert(root, 20)\n",
    "insert(root, 40)\n",
    "insert(root, 70)\n",
    "insert(root, 60)\n",
    "insert(root, 80)\n",
    "\n",
    "inorder(root)  # Output: 20 30 40 50 60 70 80\n"
   ]
  },
  {
   "cell_type": "markdown",
   "metadata": {},
   "source": [
    "7. Heap\n",
    "- En heap är en specialiserad trädstruktur där varje förälder är större (max-heap) eller mindre (min-heap) än sina barn.\n",
    "- Fördelar: Effektiv för prioriteringsköer och sortering (Heapsort).\n",
    "- Nackdelar: Ofta dyrare att hantera insättning och borttagning jämfört med BST."
   ]
  },
  {
   "cell_type": "code",
   "execution_count": null,
   "metadata": {},
   "outputs": [],
   "source": [
    "import heapq\n",
    "\n",
    "heap = []\n",
    "\n",
    "# Lägga till element\n",
    "heapq.heappush(heap, 3)\n",
    "heapq.heappush(heap, 1)\n",
    "heapq.heappush(heap, 2)\n",
    "\n",
    "# Ta bort minsta element\n",
    "print(heapq.heappop(heap))  # Output: 1\n",
    "print(heap)  # Output: [2, 3]\n"
   ]
  },
  {
   "cell_type": "markdown",
   "metadata": {},
   "source": [
    "8. Graph\n",
    "- En graf är en datastruktur som består av noder (eller \"verticer\") och kanter som förbinder dem. Den kan vara riktad eller oriktad.\n",
    "- Fördelar: Användbar för att modellera komplexa relationer som sociala nätverk, vägar och nätverk.\n",
    "- Nackdelar: Algoritmer kan vara komplexa, särskilt för stora grafer."
   ]
  },
  {
   "cell_type": "code",
   "execution_count": null,
   "metadata": {},
   "outputs": [],
   "source": [
    "from collections import defaultdict\n",
    "\n",
    "class Graph:\n",
    "    def __init__(self):\n",
    "        self.graph = defaultdict(list)\n",
    "\n",
    "    def add_edge(self, u, v):\n",
    "        self.graph[u].append(v)\n",
    "\n",
    "    def bfs(self, start):\n",
    "        visited = set()\n",
    "        queue = [start]\n",
    "        visited.add(start)\n",
    "\n",
    "        while queue:\n",
    "            vertex = queue.pop(0)\n",
    "            print(vertex, end=\" \")\n",
    "\n",
    "            for neighbor in self.graph[vertex]:\n",
    "                if neighbor not in visited:\n",
    "                    queue.append(neighbor)\n",
    "                    visited.add(neighbor)\n",
    "\n",
    "# Skapa graf och kör BFS\n",
    "g = Graph()\n",
    "g.add_edge(0, 1)\n",
    "g.add_edge(0, 2)\n",
    "g.add_edge(1, 2)\n",
    "g.add_edge(2, 0)\n",
    "g.add_edge(2, 3)\n",
    "g.add_edge(3, 3)\n",
    "\n",
    "g.bfs(2)  # Output: 2 0 3 1\n"
   ]
  }
 ],
 "metadata": {
  "language_info": {
   "name": "python"
  }
 },
 "nbformat": 4,
 "nbformat_minor": 2
}
